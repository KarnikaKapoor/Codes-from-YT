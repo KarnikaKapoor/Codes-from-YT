{
 "cells": [
  {
   "cell_type": "markdown",
   "id": "974fb1e0",
   "metadata": {},
   "source": [
    "# Machine Learning Model Evaluation"
   ]
  },
  {
   "cell_type": "code",
   "execution_count": 1,
   "id": "40f27038",
   "metadata": {},
   "outputs": [],
   "source": [
    "## Introduction\n",
    "# In this notebook, we will explore how to evaluate machine learning models using various metrics. We will cover \n",
    "# foundational principles and advanced techniques to ensure robust models."
   ]
  },
  {
   "cell_type": "markdown",
   "id": "0a5c8655",
   "metadata": {},
   "source": [
    "## Part 1: Training and Test Sets"
   ]
  },
  {
   "cell_type": "code",
   "execution_count": 2,
   "id": "66163d1a",
   "metadata": {},
   "outputs": [],
   "source": [
    "# Before diving into evaluation metrics, let's understand the foundation: training and test sets. \n",
    "# We split our data into two parts. The training set is used to teach the model patterns, while the test set evaluates its performance on unseen data."
   ]
  },
  {
   "cell_type": "code",
   "execution_count": 3,
   "id": "beb80a24",
   "metadata": {},
   "outputs": [
    {
     "name": "stderr",
     "output_type": "stream",
     "text": [
      "C:\\Users\\HP\\anaconda3\\lib\\site-packages\\scipy\\__init__.py:146: UserWarning: A NumPy version >=1.16.5 and <1.23.0 is required for this version of SciPy (detected version 1.26.0\n",
      "  warnings.warn(f\"A NumPy version >={np_minversion} and <{np_maxversion}\"\n"
     ]
    }
   ],
   "source": [
    "# Example data split\n",
    "# Here, we'll assume we have a dataset and split it into training (80%) and test (20%) sets.\n",
    "from sklearn.model_selection import train_test_split\n",
    "import numpy as np\n",
    "\n",
    "# Generating example data\n",
    "X = np.random.rand(100, 5)\n",
    "y = np.random.randint(2, size=100)"
   ]
  },
  {
   "cell_type": "code",
   "execution_count": 4,
   "id": "7ce2756b",
   "metadata": {},
   "outputs": [],
   "source": [
    "# Splitting the data\n",
    "X_train, X_test, y_train, y_test = train_test_split(X, y, test_size=0.2, random_state=42)"
   ]
  },
  {
   "cell_type": "markdown",
   "id": "b8c6df0b",
   "metadata": {},
   "source": [
    "## Part 2: Metrics for Evaluation"
   ]
  },
  {
   "cell_type": "markdown",
   "id": "c9b2a7c4",
   "metadata": {},
   "source": [
    "### Error Metrics"
   ]
  },
  {
   "cell_type": "code",
   "execution_count": 5,
   "id": "40c911d2",
   "metadata": {},
   "outputs": [
    {
     "name": "stdout",
     "output_type": "stream",
     "text": [
      "Mean Absolute Error: 0.5\n",
      "Mean Squared Error: 0.375\n"
     ]
    }
   ],
   "source": [
    "# Error metrics quantify the difference between predicted and actual values.\n",
    "\n",
    "from sklearn.metrics import mean_absolute_error, mean_squared_error\n",
    "\n",
    "# Example data\n",
    "y_true = [3, -0.5, 2, 7]\n",
    "y_pred = [2.5, 0.0, 2, 8]\n",
    "\n",
    "# Calculating MAE and MSE\n",
    "mae = mean_absolute_error(y_true, y_pred)\n",
    "mse = mean_squared_error(y_true, y_pred)\n",
    "\n",
    "print(\"Mean Absolute Error:\", mae)\n",
    "print(\"Mean Squared Error:\", mse)"
   ]
  },
  {
   "cell_type": "markdown",
   "id": "2906a324",
   "metadata": {},
   "source": [
    "### Accuracy"
   ]
  },
  {
   "cell_type": "code",
   "execution_count": 6,
   "id": "7085ce5c",
   "metadata": {},
   "outputs": [
    {
     "name": "stdout",
     "output_type": "stream",
     "text": [
      "Accuracy: 0.8333333333333334\n"
     ]
    }
   ],
   "source": [
    "# Accuracy is a straightforward metric that gives us the percentage of correct predictions.\n",
    "\n",
    "from sklearn.metrics import accuracy_score\n",
    "\n",
    "# Example data\n",
    "y_true = [1, 0, 1, 1, 0, 1]\n",
    "y_pred = [1, 0, 1, 0, 0, 1]\n",
    "\n",
    "# Calculating accuracy\n",
    "accuracy = accuracy_score(y_true, y_pred)\n",
    "\n",
    "print(\"Accuracy:\", accuracy)"
   ]
  },
  {
   "cell_type": "markdown",
   "id": "2fb3af8e",
   "metadata": {},
   "source": [
    "### Precision & Recall"
   ]
  },
  {
   "cell_type": "code",
   "execution_count": 7,
   "id": "d15c2d81",
   "metadata": {},
   "outputs": [
    {
     "name": "stdout",
     "output_type": "stream",
     "text": [
      "Precision: 1.0\n",
      "Recall: 0.75\n"
     ]
    }
   ],
   "source": [
    "# Precision and recall are crucial for classification, especially with imbalanced datasets.\n",
    "\n",
    "from sklearn.metrics import precision_score, recall_score\n",
    "\n",
    "# Example data\n",
    "y_true = [1, 0, 1, 1, 0, 1]\n",
    "y_pred = [1, 0, 1, 0, 0, 1]\n",
    "\n",
    "# Calculating precision and recall\n",
    "precision = precision_score(y_true, y_pred)\n",
    "recall = recall_score(y_true, y_pred)\n",
    "\n",
    "print(\"Precision:\", precision)\n",
    "print(\"Recall:\", recall)"
   ]
  },
  {
   "cell_type": "markdown",
   "id": "1d4d7a45",
   "metadata": {},
   "source": [
    "### Misclassification Rate"
   ]
  },
  {
   "cell_type": "code",
   "execution_count": 8,
   "id": "005f509b",
   "metadata": {},
   "outputs": [
    {
     "name": "stdout",
     "output_type": "stream",
     "text": [
      "Misclassification Rate: 0.16666666666666663\n"
     ]
    }
   ],
   "source": [
    "# The misclassification rate complements accuracy by showing the proportion of incorrect predictions.\n",
    "\n",
    "# Calculating misclassification rate\n",
    "misclassification_rate = 1 - accuracy_score(y_true, y_pred)\n",
    "\n",
    "print(\"Misclassification Rate:\", misclassification_rate)"
   ]
  },
  {
   "cell_type": "markdown",
   "id": "f5e25eb9",
   "metadata": {},
   "source": [
    "### Confusion Matrix"
   ]
  },
  {
   "cell_type": "code",
   "execution_count": 10,
   "id": "01ad7b50",
   "metadata": {},
   "outputs": [
    {
     "data": {
      "image/png": "[encoded data removed]",
      "text/plain": [
       "<Figure size 576x432 with 2 Axes>"
      ]
     },
     "metadata": {},
     "output_type": "display_data"
    }
   ],
   "source": [
    "\n",
    "import numpy as np\n",
    "import seaborn as sns\n",
    "import matplotlib.pyplot as plt\n",
    "from sklearn.metrics import confusion_matrix\n",
    "\n",
    "# Example data (replace with your data)\n",
    "y_true = [1, 0, 1, 1, 0, 1]\n",
    "y_pred = [1, 0, 1, 0, 0, 1]\n",
    "\n",
    "# Create confusion matrix\n",
    "conf_matrix = confusion_matrix(y_true, y_pred)\n",
    "\n",
    "# Plot heatmap\n",
    "plt.figure(figsize=(8, 6), facecolor=\"White\")\n",
    "ax = sns.heatmap(conf_matrix, annot=True, fmt=\"d\", \n",
    "                 annot_kws={\"size\": 14, \"weight\": \"bold\"},\n",
    "                 xticklabels=[\"Predicted Negative\", \"Predicted Positive\"],\n",
    "                 yticklabels=[\"Actual Negative\", \"Actual Positive\"])\n",
    "ax.xaxis.set_label_position('top')\n",
    "ax.xaxis.tick_top()\n",
    "\n",
    "plt.xlabel('Predicted values', fontsize=14)\n",
    "plt.ylabel('True values', fontsize=14)\n",
    "plt.title('Confusion Matrix Heatmap', fontsize=16)\n",
    "plt.xticks(fontsize=12)\n",
    "plt.yticks(fontsize=12, rotation=0)\n",
    "plt.show()"
   ]
  },
  {
   "cell_type": "markdown",
   "id": "d7cecacf",
   "metadata": {},
   "source": [
    "## Part 4: Cross-Validation"
   ]
  },
  {
   "cell_type": "code",
   "execution_count": 11,
   "id": "1696aa9d",
   "metadata": {},
   "outputs": [
    {
     "name": "stdout",
     "output_type": "stream",
     "text": [
      "Cross-Validation Scores: [0.5 1.  0.5]\n",
      "Average Score: 0.6666666666666666\n"
     ]
    }
   ],
   "source": [
    "# To get a more robust estimate of model performance and reduce the impact of random data splits, we use cross-validation.\n",
    "\n",
    "from sklearn.model_selection import cross_val_score\n",
    "from sklearn.linear_model import LogisticRegression\n",
    "\n",
    "# Example data\n",
    "X = [[1, 2], [2, 3], [3, 4], [4, 5], [5, 6], [6, 7]]\n",
    "y = [0, 0, 1, 1, 1, 0]\n",
    "\n",
    "model = LogisticRegression()\n",
    "\n",
    "# Performing cross-validation\n",
    "scores = cross_val_score(model, X, y, cv=3)\n",
    "\n",
    "print(\"Cross-Validation Scores:\", scores)\n",
    "print(\"Average Score:\", scores.mean())"
   ]
  },
  {
   "cell_type": "code",
   "execution_count": null,
   "id": "d7314b0f",
   "metadata": {},
   "outputs": [],
   "source": [
    "## Conclusion\n",
    "# We've explored machine learning evaluation from understanding its goals and metrics to using cross-validation.\n",
    "# These techniques are essential for refining and ensuring robust models that can perform well on unseen data."
   ]
  }
 ],
 "metadata": {
  "kernelspec": {
   "display_name": "Python 3 (ipykernel)",
   "language": "python",
   "name": "python3"
  },
  "language_info": {
   "codemirror_mode": {
    "name": "ipython",
    "version": 3
   },
   "file_extension": ".py",
   "mimetype": "text/x-python",
   "name": "python",
   "nbconvert_exporter": "python",
   "pygments_lexer": "ipython3",
   "version": "3.9.7"
  }
 },
 "nbformat": 4,
 "nbformat_minor": 5
}
